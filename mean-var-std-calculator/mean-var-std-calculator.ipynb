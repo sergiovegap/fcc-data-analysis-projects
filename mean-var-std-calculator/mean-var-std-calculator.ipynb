{
 "cells": [
  {
   "cell_type": "code",
   "execution_count": 15,
   "id": "69df17eb",
   "metadata": {},
   "outputs": [],
   "source": [
    "import numpy as np\n",
    "import pprint"
   ]
  },
  {
   "cell_type": "code",
   "execution_count": 21,
   "id": "43012b7c",
   "metadata": {},
   "outputs": [
    {
     "name": "stdout",
     "output_type": "stream",
     "text": [
      "{   'max': [[6, 7, 8], [2, 5, 8], 8],\n",
      "    'mean': [[3.0, 4.0, 5.0], [1.0, 4.0, 7.0], 4.0],\n",
      "    'min': [[0, 1, 2], [0, 3, 6], 0],\n",
      "    'standard deviation': [[2.449489742783178, 2.449489742783178, 2.449489742783178], [0.816496580927726, 0.816496580927726, 0.816496580927726], 2.581988897471611],\n",
      "    'sum': [[9, 12, 15], [3, 12, 21], 36],\n",
      "    'variance': [[6.0, 6.0, 6.0], [0.6666666666666666, 0.6666666666666666, 0.6666666666666666], 6.666666666666667]}\n"
     ]
    }
   ],
   "source": [
    "# Function calculate()that uses Numpy to output the mean, variance, standard deviation, max, min\n",
    "# and sum of the rows, columns, and elements in a 3 x 3 matrix.\n",
    "\n",
    "\n",
    "def calculate(list):\n",
    "    if len(list) < 9 | len(list) > 9:\n",
    "      raise ValueError(\"List must contain nine numbers.\")\n",
    "    \n",
    "    input = np.reshape(list, (3, 3))\n",
    "\n",
    "    mean = [([np.mean(input[:,0]), np.mean(input[:,1]), np.mean(input[:,2])]), [np.mean(input[0,:]), np.mean(input[1,:]), np.mean(input[2,:])], np.mean(input[:,:])]\n",
    "    variance = [[np.var(input[:,0]), np.var(input[:,1]), np.var(input[:,2])],[np.var(input[0,:]), np.var(input[1,:]), np.var(input[2,:])], np.var(input[:,:])]\n",
    "    std = [[np.std(input[:,0]), np.std(input[:,1]), np.std(input[:,2])],[np.std(input[0,:]), np.std(input[1,:]), np.std(input[2,:])], np.std(input[:,:])]\n",
    "    max = [[np.max(input[:,0]), np.max(input[:,1]), np.max(input[:,2])],[np.max(input[0,:]), np.max(input[1,:]), np.max(input[2,:])],np.max(input[:,:])]\n",
    "    min = [[np.min(input[:,0]), np.min(input[:,1]), np.min(input[:,2])],[np.min(input[0,:]), np.min(input[1,:]), np.min(input[2,:])], np.min(input[:,:])]\n",
    "    sum = [[np.sum(input[:,0]), np.sum(input[:,1]), np.sum(input[:,2])],[np.sum(input[0,:]), np.sum(input[1,:]), np.sum(input[2,:])], np.sum(input[:,:])]\n",
    "\n",
    "    calcs = {\n",
    "        'mean': mean,\n",
    "        'variance': variance,\n",
    "        'standard deviation': std,\n",
    "        'max': max,\n",
    "        'min': min,\n",
    "        'sum': sum\n",
    "        }\n",
    "\n",
    "    return pprint.pprint(calcs, width=200, indent=4)\n",
    "\n",
    "\n",
    "\n",
    "calculate([0,1,2,3,4,5,6,7,8])"
   ]
  }
 ],
 "metadata": {
  "kernelspec": {
   "display_name": "Python 3 (ipykernel)",
   "language": "python",
   "name": "python3"
  },
  "language_info": {
   "codemirror_mode": {
    "name": "ipython",
    "version": 3
   },
   "file_extension": ".py",
   "mimetype": "text/x-python",
   "name": "python",
   "nbconvert_exporter": "python",
   "pygments_lexer": "ipython3",
   "version": "3.11.3"
  }
 },
 "nbformat": 4,
 "nbformat_minor": 5
}
